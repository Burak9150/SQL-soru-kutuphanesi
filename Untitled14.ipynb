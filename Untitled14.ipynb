{
  "nbformat": 4,
  "nbformat_minor": 0,
  "metadata": {
    "colab": {
      "name": "Untitled14.ipynb",
      "provenance": [],
      "authorship_tag": "ABX9TyPOEzJeYnRV5GDTnoPzxk2e",
      "include_colab_link": true
    },
    "kernelspec": {
      "display_name": "Python 3",
      "name": "python3"
    },
    "language_info": {
      "name": "python"
    }
  },
  "cells": [
    {
      "cell_type": "markdown",
      "metadata": {
        "id": "view-in-github",
        "colab_type": "text"
      },
      "source": [
        "<a href=\"https://colab.research.google.com/github/Burak9150/my-demo-repo/blob/main/Untitled14.ipynb\" target=\"_parent\"><img src=\"https://colab.research.google.com/assets/colab-badge.svg\" alt=\"Open In Colab\"/></a>"
      ]
    },
    {
      "cell_type": "code",
      "metadata": {
        "colab": {
          "background_save": true
        },
        "id": "QFWX1zo374Tu",
        "outputId": "07a6beac-4ddb-46e8-cc1f-2bc11a89c782"
      },
      "source": [
        "kelime=\"asdf\"\n",
        "liste1=[\"q\",\"w\",\"r\",\"t\",\"a\",\"s\",\"d\",\"f\",\"g\",\"z\",\"x\",\"c\",\"v\",\"b\"]\n",
        "liste2=[\"y\",\"u\",\"ı\",\"o\",\"p\",\"ğ\",\"ü\",\"h\",\"j\",\"k\",\"l\",\"ş\",\"i\",\"n\",\"m\",\"ö\",\"ç\"]\n",
        "k=kelime.split()\n",
        "x=set(liste1)\n",
        "y=set(liste2)\n",
        "z=set(k)\n",
        "print(z-x)"
      ],
      "execution_count": null,
      "outputs": [
        {
          "output_type": "error",
          "ename": "NameError",
          "evalue": "ignored",
          "traceback": [
            "\u001b[0;31m---------------------------------------------------------------------------\u001b[0m",
            "\u001b[0;31mNameError\u001b[0m                                 Traceback (most recent call last)",
            "\u001b[0;32m<ipython-input-14-e52e4e66549d>\u001b[0m in \u001b[0;36m<module>\u001b[0;34m()\u001b[0m\n\u001b[1;32m      6\u001b[0m \u001b[0my\u001b[0m\u001b[0;34m=\u001b[0m\u001b[0mset\u001b[0m\u001b[0;34m(\u001b[0m\u001b[0mliste2\u001b[0m\u001b[0;34m)\u001b[0m\u001b[0;34m\u001b[0m\u001b[0;34m\u001b[0m\u001b[0m\n\u001b[1;32m      7\u001b[0m \u001b[0mz\u001b[0m\u001b[0;34m=\u001b[0m\u001b[0mset\u001b[0m\u001b[0;34m(\u001b[0m\u001b[0mk\u001b[0m\u001b[0;34m)\u001b[0m\u001b[0;34m\u001b[0m\u001b[0;34m\u001b[0m\u001b[0m\n\u001b[0;32m----> 8\u001b[0;31m \u001b[0mprint\u001b[0m\u001b[0;34m(\u001b[0m\u001b[0ma\u001b[0m\u001b[0;34m-\u001b[0m\u001b[0mb\u001b[0m\u001b[0;34m)\u001b[0m\u001b[0;34m\u001b[0m\u001b[0;34m\u001b[0m\u001b[0m\n\u001b[0m",
            "\u001b[0;31mNameError\u001b[0m: name 'a' is not defined"
          ]
        }
      ]
    },
    {
      "cell_type": "code",
      "metadata": {
        "colab": {
          "base_uri": "https://localhost:8080/"
        },
        "id": "krIsKsLjGB__",
        "outputId": "f43a2d75-1fc6-4af1-a85f-9e3dc461914f"
      },
      "source": [
        "\n",
        "sesli_harfler= \"q,w,r,e,t,a,s,d,f,g,z,x,c,v,b\"\n",
        "sesli_harfler1=\"y,u,ı,o,p,ğ,ü,h,j,k,l,ş,i,n,m,ö,ç\"\n",
        "\n",
        "sehirler = [\"istanbul\",\"tekirdağ\",\"erzurum\",\"emre\"]\n",
        "\n",
        "c = 0\n",
        "\n",
        "for i in sehirler:\n",
        "    c = 0\n",
        "    for b in i:\n",
        "        if b in sesli_harfler:\n",
        "            c +=1\n",
        "for i in sehirler:\n",
        "    c = 0\n",
        "    for b in i:\n",
        "        if b in sesli_harfler1:\n",
        "            c +=1\n",
        "    print(\"Geçen Sesli Harf {} >>>> {}\".format(c,i))"
      ],
      "execution_count": null,
      "outputs": [
        {
          "output_type": "stream",
          "text": [
            "Geçen Sesli Harf 4 >>>> istanbul\n",
            "Geçen Sesli Harf 3 >>>> tekirdağ\n",
            "Geçen Sesli Harf 3 >>>> erzurum\n",
            "Geçen Sesli Harf 1 >>>> emre\n"
          ],
          "name": "stdout"
        }
      ]
    },
    {
      "cell_type": "code",
      "metadata": {
        "colab": {
          "base_uri": "https://localhost:8080/"
        },
        "id": "Sv-RjaXoGlWf",
        "outputId": "3c8c8372-c9a0-4f84-8acf-f67b8cdc311d"
      },
      "source": [
        "\n",
        "sesli_harfler= \"q,w,r,e,t,a,s,d,f,g,z,x,c,v,b\"\n",
        "sesli_harfler1=\"y,u,ı,o,p,ğ,ü,h,j,k,l,ş,i,n,m,ö,ç\"\n",
        "sehirler = [\"w\"]\n",
        "\n",
        "c = 0\n",
        "\n",
        "for i in sehirler:\n",
        "    c = 0\n",
        "    for b in i:\n",
        "        if b in sesli_harfler:\n",
        "            \n",
        "            print(False ,\"a\")\n",
        "            \n",
        "\n",
        "for i in sehirler:\n",
        "    c = 0\n",
        "    for b in i:\n",
        "        if b in sesli_harfler1:\n",
        "            \n",
        "            print(False,\"b\")\n",
        "for i in sehirler:\n",
        "    c = 0\n",
        "    for b in i:\n",
        "        if b in (sesli_harfler or sesli_harfler1):\n",
        "            \n",
        "            print(True)  \n",
        "    "
      ],
      "execution_count": null,
      "outputs": [
        {
          "output_type": "stream",
          "text": [
            "False a\n",
            "True\n"
          ],
          "name": "stdout"
        }
      ]
    },
    {
      "cell_type": "code",
      "metadata": {
        "colab": {
          "base_uri": "https://localhost:8080/",
          "height": 229
        },
        "id": "YIVDIFEDfXay",
        "outputId": "ce39ae43-cd4d-4631-d7a3-de27ff98236b"
      },
      "source": [
        "sesli_harfler= \"q,w,r,t,a,s,d,f,g,z,x,c,v,b\"\n",
        "sesli_harfler1=\"y,u,ı,o,p,ğ,ü,h,j,k,l,ş,i,n,m,ö,ç\"\n",
        "sehirler = [\"ot\"]\n",
        "\n",
        "c = 0\n",
        "\n",
        "\n",
        "for i in sehirler:\n",
        "    c = 0\n",
        "    for b in i:\n",
        "        if find(sehirler) in (sesli_harfler or sesli_harfler1):\n",
        "            \n",
        "            print(True) \n",
        "\n",
        "        else:\n",
        "\n",
        "          print(False)"
      ],
      "execution_count": null,
      "outputs": [
        {
          "output_type": "error",
          "ename": "NameError",
          "evalue": "ignored",
          "traceback": [
            "\u001b[0;31m---------------------------------------------------------------------------\u001b[0m",
            "\u001b[0;31mNameError\u001b[0m                                 Traceback (most recent call last)",
            "\u001b[0;32m<ipython-input-103-5dd660577500>\u001b[0m in \u001b[0;36m<module>\u001b[0;34m()\u001b[0m\n\u001b[1;32m      9\u001b[0m     \u001b[0mc\u001b[0m \u001b[0;34m=\u001b[0m \u001b[0;36m0\u001b[0m\u001b[0;34m\u001b[0m\u001b[0;34m\u001b[0m\u001b[0m\n\u001b[1;32m     10\u001b[0m     \u001b[0;32mfor\u001b[0m \u001b[0mb\u001b[0m \u001b[0;32min\u001b[0m \u001b[0mi\u001b[0m\u001b[0;34m:\u001b[0m\u001b[0;34m\u001b[0m\u001b[0;34m\u001b[0m\u001b[0m\n\u001b[0;32m---> 11\u001b[0;31m         \u001b[0;32mif\u001b[0m \u001b[0mfind\u001b[0m\u001b[0;34m(\u001b[0m\u001b[0msehirler\u001b[0m\u001b[0;34m)\u001b[0m \u001b[0;32min\u001b[0m \u001b[0;34m(\u001b[0m\u001b[0msesli_harfler\u001b[0m \u001b[0;32mor\u001b[0m \u001b[0msesli_harfler1\u001b[0m\u001b[0;34m)\u001b[0m\u001b[0;34m:\u001b[0m\u001b[0;34m\u001b[0m\u001b[0;34m\u001b[0m\u001b[0m\n\u001b[0m\u001b[1;32m     12\u001b[0m \u001b[0;34m\u001b[0m\u001b[0m\n\u001b[1;32m     13\u001b[0m             \u001b[0mprint\u001b[0m\u001b[0;34m(\u001b[0m\u001b[0;32mTrue\u001b[0m\u001b[0;34m)\u001b[0m\u001b[0;34m\u001b[0m\u001b[0;34m\u001b[0m\u001b[0m\n",
            "\u001b[0;31mNameError\u001b[0m: name 'find' is not defined"
          ]
        }
      ]
    },
    {
      "cell_type": "code",
      "metadata": {
        "colab": {
          "base_uri": "https://localhost:8080/"
        },
        "id": "h2UhYws2xYvs",
        "outputId": "e6c1dc2d-92b9-4f23-9ad9-83986507eb0a"
      },
      "source": [
        "sesli_harfler= \"q,w,r,t,a,s,d,f,g,z,x,c,v,b\"\n",
        "sesli_harfler1=\"y,u,ı,o,p,ğ,ü,h,j,k,l,ş,i,n,m,ö,ç\"\n",
        "\n",
        "sehirler = [\"q\"]\n",
        "\n",
        "\n",
        "\n",
        "for harf in sehirler:\n",
        "   if harf not in sesli_harfler:\n",
        "     print(False)\n",
        "for harf in sehirler:\n",
        "   if harf not in sesli_harfler1:\n",
        "     print(False)\n",
        "for harf in sehirler:\n",
        "   if harf  in sesli_harfler:\n",
        "     print(False)"
      ],
      "execution_count": null,
      "outputs": [
        {
          "output_type": "stream",
          "text": [
            "1\n"
          ],
          "name": "stdout"
        }
      ]
    },
    {
      "cell_type": "code",
      "metadata": {
        "colab": {
          "base_uri": "https://localhost:8080/"
        },
        "id": "Q3-LSfDY8H37",
        "outputId": "6d9050bb-06d0-4148-fefd-3688bfd8f1b0"
      },
      "source": [
        "şifre=\"clarusway\"\n",
        "ad=(\"burak\").title()\n",
        "isim=input(\"ilk isminizi giriniz : \").title()\n",
        "\n",
        "if isim==ad:\n",
        "  print(\"merhaba \",ad)\n",
        "  print(\"şifre :\",şifre)\n",
        "else:\n",
        "  print(\"merhaba\",isim)\n",
        "  print(\"sonra görüşürüz\")"
      ],
      "execution_count": 7,
      "outputs": [
        {
          "output_type": "stream",
          "text": [
            "ilk isminizi giriniz : yusuf\n",
            "merhaba Yusuf\n",
            "sonra görüşürüz\n"
          ],
          "name": "stdout"
        }
      ]
    },
    {
      "cell_type": "code",
      "metadata": {
        "colab": {
          "base_uri": "https://localhost:8080/"
        },
        "id": "ijPzR9WxPJbw",
        "outputId": "5faec76f-4d71-427a-9956-2502a698039a"
      },
      "source": [
        "liste1 = [1, 3, 7, 4, 3, 0, 3, 6,3, 3,6]\n",
        "liste2=set(liste1)\n",
        "\n",
        "for eleman in liste1:    # liste1 in her elemanını dönüyoruz.\n",
        "    if eleman  in liste2: # liste1 in her elemanı için o elemanın liste2'de olup olmadığını kontrol ediyoruz.\n",
        "        print(eleman)    # eğer varsa elemanı yazdırıyoruz."
      ],
      "execution_count": null,
      "outputs": [
        {
          "output_type": "stream",
          "text": [
            "1\n",
            "3\n",
            "7\n",
            "4\n",
            "3\n",
            "0\n",
            "3\n",
            "6\n",
            "3\n",
            "3\n",
            "6\n"
          ],
          "name": "stdout"
        }
      ]
    },
    {
      "cell_type": "code",
      "metadata": {
        "colab": {
          "base_uri": "https://localhost:8080/"
        },
        "id": "Y70uALJ1VrTU",
        "outputId": "f1af19ec-37aa-46d7-a760-c66b6ef8c24a"
      },
      "source": [
        "liste1 = [1, 3, 7, 4, 3, 0, 3, 6,3, 3,6]\n",
        "liste2={}\n",
        "\n",
        "for i in liste1:\n",
        "  if liste1[i]==liste1[i+1]:\n",
        "    i=i+1\n",
        "    if i not in liste2:\n",
        "     liste2.append(i)\n",
        "print(liste2)"
      ],
      "execution_count": null,
      "outputs": [
        {
          "output_type": "stream",
          "text": [
            "{}\n"
          ],
          "name": "stdout"
        }
      ]
    },
    {
      "cell_type": "code",
      "metadata": {
        "colab": {
          "base_uri": "https://localhost:8080/"
        },
        "id": "quio5rLblHOF",
        "outputId": "2f03ba6c-0a20-4f04-970c-c601b4c05854"
      },
      "source": [
        "kelime =[\"eat\", \"tea\", \"tan\", \"ate\", \"nat\", \"bat\"]\n",
        "result={}\n",
        "\n",
        "for i in kelime:\n",
        "  x = str(sorted(i))\n",
        "  if x in result:\n",
        "            result[x].append(i)\n",
        "  else:\n",
        "            result[x] = [i]\n",
        "print(list(result.values()))"
      ],
      "execution_count": 12,
      "outputs": [
        {
          "output_type": "stream",
          "text": [
            "[['eat', 'tea', 'ate'], ['tan', 'nat'], ['bat']]\n"
          ],
          "name": "stdout"
        }
      ]
    },
    {
      "cell_type": "code",
      "metadata": {
        "id": "_qAdGv1MxJrG",
        "outputId": "65967cdf-ab77-46af-93eb-a701c3097a04",
        "colab": {
          "base_uri": "https://localhost:8080/"
        }
      },
      "source": [
        "liste1 =[\"eat\", \"tea\", \"tan\", \"ate\", \"nat\", \"bat\"]\n",
        "liste2={}\n",
        "\n",
        "for i in liste1:\n",
        "  x = \"\".join(sorted(i))\n",
        "  if x in liste2:\n",
        "            liste2[x].append(i)\n",
        "  else:\n",
        "            liste2[x] = [i]\n",
        "print(list(liste2.values()))"
      ],
      "execution_count": 6,
      "outputs": [
        {
          "output_type": "stream",
          "text": [
            "[['eat', 'tea', 'ate'], ['tan', 'nat'], ['bat']]\n"
          ],
          "name": "stdout"
        }
      ]
    },
    {
      "cell_type": "code",
      "metadata": {
        "id": "Bsn0ohB-xJl5"
      },
      "source": [
        ""
      ],
      "execution_count": null,
      "outputs": []
    },
    {
      "cell_type": "code",
      "metadata": {
        "id": "F5EJ7_6Sx8G3",
        "outputId": "a84f973e-8e73-4d97-ef58-3cd546df81d7",
        "colab": {
          "base_uri": "https://localhost:8080/"
        }
      },
      "source": [
        "yaş=input(\"75 yaşından büyük bir sigara bağımlısı mısınız? :\").title()"
      ],
      "execution_count": 2,
      "outputs": [
        {
          "output_type": "stream",
          "text": [
            "75 yaşından büyük bir sigara bağımlısı mısınız? :e\n"
          ],
          "name": "stdout"
        }
      ]
    },
    {
      "cell_type": "code",
      "metadata": {
        "id": "_Owfa1WO7cH6"
      },
      "source": [
        ""
      ],
      "execution_count": null,
      "outputs": []
    }
  ]
}