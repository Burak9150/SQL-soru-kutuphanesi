{
  "nbformat": 4,
  "nbformat_minor": 0,
  "metadata": {
    "colab": {
      "name": "Untitled17.ipynb",
      "provenance": [],
      "authorship_tag": "ABX9TyOexIxVTLdd5ldK4NoOeAuL",
      "include_colab_link": true
    },
    "kernelspec": {
      "name": "python3",
      "display_name": "Python 3"
    },
    "language_info": {
      "name": "python"
    }
  },
  "cells": [
    {
      "cell_type": "markdown",
      "metadata": {
        "id": "view-in-github",
        "colab_type": "text"
      },
      "source": [
        "<a href=\"https://colab.research.google.com/github/Burak9150/my-demo-repo/blob/main/Untitled17.ipynb\" target=\"_parent\"><img src=\"https://colab.research.google.com/assets/colab-badge.svg\" alt=\"Open In Colab\"/></a>"
      ]
    },
    {
      "cell_type": "code",
      "metadata": {
        "colab": {
          "base_uri": "https://localhost:8080/"
        },
        "id": "_vZ6Ij4pBfCk",
        "outputId": "f78acfa9-a858-4e41-fc3a-d7fba89825fe"
      },
      "source": [
        "şifre=\"clarusway\"\n",
        "ad=(\"burak\").title()\n",
        "isim=input(\"enter your first name : \").title()\n",
        "\n",
        "if isim==ad:\n",
        "  print(\"Hello,\", isim+\"!\", \"The password is :\",şifre)\n",
        "  \n",
        "else:\n",
        "  print(\"Hello,\" ,isim+\"!\",\" See you later.\")"
      ],
      "execution_count": 10,
      "outputs": [
        {
          "output_type": "stream",
          "text": [
            "enter your first name : oğuz\n",
            "Hello, Oğuz!  See you later.\n"
          ],
          "name": "stdout"
        }
      ]
    }
  ]
}