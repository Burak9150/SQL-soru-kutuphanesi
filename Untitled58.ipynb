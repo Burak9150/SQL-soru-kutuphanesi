{
  "nbformat": 4,
  "nbformat_minor": 0,
  "metadata": {
    "colab": {
      "name": "Untitled58.ipynb",
      "provenance": [],
      "authorship_tag": "ABX9TyOhlrS39womJtP3Yn2EUsTS",
      "include_colab_link": true
    },
    "kernelspec": {
      "name": "python3",
      "display_name": "Python 3"
    },
    "language_info": {
      "name": "python"
    }
  },
  "cells": [
    {
      "cell_type": "markdown",
      "metadata": {
        "id": "view-in-github",
        "colab_type": "text"
      },
      "source": [
        "<a href=\"https://colab.research.google.com/github/Burak9150/SQL-soru-kutuphanesi/blob/main/Untitled58.ipynb\" target=\"_parent\"><img src=\"https://colab.research.google.com/assets/colab-badge.svg\" alt=\"Open In Colab\"/></a>"
      ]
    },
    {
      "cell_type": "code",
      "metadata": {
        "id": "sR7F6XQDJFHZ"
      },
      "source": [
        ""
      ],
      "execution_count": null,
      "outputs": []
    },
    {
      "cell_type": "markdown",
      "metadata": {
        "id": "R_CGxdz6JGcu"
      },
      "source": [
        "Bu meydan okuma için people, yaşlarının 50'nin üzerinde olduğu NEREDE tablodaki tüm sütunları döndürecek basit bir SELECT ifadesi oluşturmanız gerekir.\n",
        "\n",
        "kişi tablosu şeması\n",
        "İD\n",
        "isim\n",
        "yaş\n",
        "Yaşları 50'nin üzerinde olan tüm insan alanlarını iade etmeli ve yaşa göre azalan sıraya göre sıralamalısınız."
      ]
    },
    {
      "cell_type": "markdown",
      "metadata": {
        "id": "i5eO8qzqJGVj"
      },
      "source": [
        ""
      ]
    },
    {
      "cell_type": "markdown",
      "metadata": {
        "id": "_o2fxQK7JGPT"
      },
      "source": [
        "SELECT *\n",
        "  FROM people\n",
        "  WHERE age > 50\n",
        "  ORDER BY age DESC"
      ]
    },
    {
      "cell_type": "markdown",
      "metadata": {
        "id": "5vL8Na_kJGIS"
      },
      "source": [
        "SELECT\n",
        "  id,\n",
        "  name,\n",
        "  age\n",
        "FROM people\n",
        "WHERE age > 50\n",
        "ORDER BY age desc"
      ]
    },
    {
      "cell_type": "markdown",
      "metadata": {
        "id": "WEnIISidJGBB"
      },
      "source": [
        ""
      ]
    },
    {
      "cell_type": "markdown",
      "metadata": {
        "id": "V6WclFPlJF3i"
      },
      "source": [
        ""
      ]
    }
  ]
}