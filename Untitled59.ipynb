{
  "nbformat": 4,
  "nbformat_minor": 0,
  "metadata": {
    "colab": {
      "name": "Untitled59.ipynb",
      "provenance": [],
      "authorship_tag": "ABX9TyM034/++9QUJRTIqlP7FOp7",
      "include_colab_link": true
    },
    "kernelspec": {
      "name": "python3",
      "display_name": "Python 3"
    },
    "language_info": {
      "name": "python"
    }
  },
  "cells": [
    {
      "cell_type": "markdown",
      "metadata": {
        "id": "view-in-github",
        "colab_type": "text"
      },
      "source": [
        "<a href=\"https://colab.research.google.com/github/Burak9150/SQL-soru-kutuphanesi/blob/main/Untitled59.ipynb\" target=\"_parent\"><img src=\"https://colab.research.google.com/assets/colab-badge.svg\" alt=\"Open In Colab\"/></a>"
      ]
    },
    {
      "cell_type": "markdown",
      "metadata": {
        "id": "Lw-UngZSo9vX"
      },
      "source": [
        "Bu meydan okuma için basit bir HAVING ifadesi oluşturmanız gerekiyor, aynı yaşta kaç kişinin olduğunu saymak ve o yaştaki 10 veya daha fazla kişiden oluşan grupları geri döndürmek istiyorsunuz.\n",
        "\n",
        "kişi tablosu şeması\n",
        "İD\n",
        "isim\n",
        "yaş\n",
        "tablo şemasını döndür\n",
        "yaş\n",
        "total_people"
      ]
    },
    {
      "cell_type": "code",
      "metadata": {
        "id": "THXPg-1wo6zJ"
      },
      "source": [
        "select age, count(*) as total_people\n",
        "from people\n",
        "group by age\n",
        "having count(*) >= 10"
      ],
      "execution_count": null,
      "outputs": []
    },
    {
      "cell_type": "code",
      "metadata": {
        "id": "F0GKuRYKo6rj"
      },
      "source": [
        "SELECT age AS age,\n",
        "  count(id) AS total_people\n",
        "FROM people\n",
        "GROUP BY age\n",
        "HAVING count(id) >= 10;"
      ],
      "execution_count": null,
      "outputs": []
    },
    {
      "cell_type": "code",
      "metadata": {
        "id": "hbiYNx9yo6oU"
      },
      "source": [
        ""
      ],
      "execution_count": null,
      "outputs": []
    },
    {
      "cell_type": "code",
      "metadata": {
        "id": "OI3gyxt_o5ea"
      },
      "source": [
        ""
      ],
      "execution_count": null,
      "outputs": []
    }
  ]
}