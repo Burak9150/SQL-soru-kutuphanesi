{
  "nbformat": 4,
  "nbformat_minor": 0,
  "metadata": {
    "colab": {
      "name": "Untitled59.ipynb",
      "provenance": [],
      "authorship_tag": "ABX9TyMIHOafa7fa8wtrMQibrQS5",
      "include_colab_link": true
    },
    "kernelspec": {
      "name": "python3",
      "display_name": "Python 3"
    },
    "language_info": {
      "name": "python"
    }
  },
  "cells": [
    {
      "cell_type": "markdown",
      "metadata": {
        "id": "view-in-github",
        "colab_type": "text"
      },
      "source": [
        "<a href=\"https://colab.research.google.com/github/Burak9150/SQL-soru-kutuphanesi/blob/main/Untitled59.ipynb\" target=\"_parent\"><img src=\"https://colab.research.google.com/assets/colab-badge.svg\" alt=\"Open In Colab\"/></a>"
      ]
    },
    {
      "cell_type": "markdown",
      "metadata": {
        "id": "Lw-UngZSo9vX"
      },
      "source": [
        "Harika bir partiye davet aldınız. Şimdi kendinizi katılımcılar tablosuna eklemek için bir ekleme ifadesi yazmanız gerekiyor.\n",
        "\n",
        "katılımcılar tablosu şeması\n",
        "\n",
        "isim (dize)\n",
        "yaş (tam sayı)\n",
        "katılmak (boolean)\n",
        "NOTLAR:\n",
        "\n",
        "Alkol servisi yapılacağından, yalnızca 21 yaşında veya daha büyükseniz katılabilirsiniz.\n",
        "Katılma sütunu doğru dışında bir şey döndürürse katılamazsınız"
      ]
    },
    {
      "cell_type": "code",
      "metadata": {
        "id": "THXPg-1wo6zJ"
      },
      "source": [
        "INSERT INTO participants VALUES ('mozart', '26', true);\n",
        "\n",
        "SELECT * FROM participants;"
      ],
      "execution_count": null,
      "outputs": []
    },
    {
      "cell_type": "code",
      "metadata": {
        "id": "F0GKuRYKo6rj"
      },
      "source": [
        "INSERT into participants (name, age, attending) values ('Greg', 21, true);\n",
        "\n",
        "SELECT * FROM participants;"
      ],
      "execution_count": null,
      "outputs": []
    },
    {
      "cell_type": "code",
      "metadata": {
        "id": "hbiYNx9yo6oU"
      },
      "source": [
        ""
      ],
      "execution_count": null,
      "outputs": []
    },
    {
      "cell_type": "code",
      "metadata": {
        "id": "OI3gyxt_o5ea"
      },
      "source": [
        ""
      ],
      "execution_count": null,
      "outputs": []
    }
  ]
}